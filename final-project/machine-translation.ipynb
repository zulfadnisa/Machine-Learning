{
  "nbformat": 4,
  "nbformat_minor": 0,
  "metadata": {
    "colab": {
      "name": "final project ml.ipynb",
      "version": "0.3.2",
      "provenance": [],
      "collapsed_sections": [
        "NzqcryVKiU-8"
      ]
    },
    "kernelspec": {
      "name": "python3",
      "display_name": "Python 3"
    }
  },
  "cells": [
    {
      "cell_type": "markdown",
      "metadata": {
        "id": "2ze_wINxqTq2",
        "colab_type": "text"
      },
      "source": [
        "# Preprocessing\n"
      ]
    },
    {
      "cell_type": "code",
      "metadata": {
        "id": "e1NJnLqVS08o",
        "colab_type": "code",
        "outputId": "3e2e3091-11da-450a-eac6-255d5d78a905",
        "colab": {
          "base_uri": "https://localhost:8080/",
          "height": 34
        }
      },
      "source": [
        "from numpy import array, argmax, random, take\n",
        "import pandas as pd\n",
        "from google.colab import drive\n",
        "import os\n",
        "\n",
        "import keras\n",
        "from keras.models import Sequential\n",
        "from keras.layers import Dense, LSTM, Embedding,RepeatVector, TimeDistributed,GRU\n",
        "from keras.preprocessing.text import Tokenizer\n",
        "from keras.callbacks import ModelCheckpoint\n",
        "from keras.preprocessing.sequence import pad_sequences\n",
        "from keras.models import load_model,Model\n",
        "from keras import optimizers\n",
        "import matplotlib.pyplot as plt\n",
        "from sklearn.model_selection import train_test_split\n",
        "import string\n",
        "import numpy as np\n",
        "import time\n",
        "from nltk.translate.bleu_score import corpus_bleu"
      ],
      "execution_count": 0,
      "outputs": [
        {
          "output_type": "stream",
          "text": [
            "Using TensorFlow backend.\n"
          ],
          "name": "stderr"
        }
      ]
    },
    {
      "cell_type": "code",
      "metadata": {
        "id": "JERx4p8HOcEE",
        "colab_type": "code",
        "outputId": "1013cc1f-1c78-418f-ee33-bccca7708e1f",
        "colab": {
          "base_uri": "https://localhost:8080/",
          "height": 136
        }
      },
      "source": [
        "drive.mount('/content/gdrive')\n",
        "root_path = \"/content/gdrive/My Drive/Machine Learning/\"\n",
        "\n",
        "#Load dataset\n",
        "def load_data(path):\n",
        "    input_file = os.path.join(root_path, path)\n",
        "    with open(input_file, \"r\",encoding=\"utf8\") as f:\n",
        "        data = f.read()\n",
        "    f.close()\n",
        "\n",
        "    return data.strip().split('\\n')\n",
        "en_data = load_data('news-commentary-v8.de-en.en')\n",
        "de_data = load_data('news-commentary-v8.de-en.de')\n",
        "en_sentences = en_data[:1500]\n",
        "de_sentences = de_data[:1500]\n",
        "\n",
        "#clean data\n",
        "def clean_data(strs):\n",
        "  strs = (strs.translate(str.maketrans('', '', string.punctuation))).lower()\n",
        "  return strs.strip()\n",
        "\n",
        "for i in range(len(en_sentences)):\n",
        "  en_sentences[i] = clean_data(en_sentences[i])\n",
        "  de_sentences[i] = clean_data(de_sentences[i])\n",
        "  \n",
        "#split data\n",
        "en_train, en_test, de_train, de_test = train_test_split(en_sentences,de_sentences, test_size=0.03, random_state=12)\n",
        "\n",
        "print(en_data[0])\n",
        "print(de_data[0])\n",
        "print(\"\\nClean data:\")\n",
        "print(en_sentences[0])\n",
        "print(de_sentences[0])"
      ],
      "execution_count": 0,
      "outputs": [
        {
          "output_type": "stream",
          "text": [
            "Drive already mounted at /content/gdrive; to attempt to forcibly remount, call drive.mount(\"/content/gdrive\", force_remount=True).\n",
            "SAN FRANCISCO – It has never been easy to have a rational conversation about the value of gold.\n",
            "SAN FRANCISCO – Es war noch nie leicht, ein rationales Gespräch über den Wert von Gold zu führen.\n",
            "\n",
            "Clean data:\n",
            "san francisco – it has never been easy to have a rational conversation about the value of gold\n",
            "san francisco – es war noch nie leicht ein rationales gespräch über den wert von gold zu führen\n"
          ],
          "name": "stdout"
        }
      ]
    },
    {
      "cell_type": "code",
      "metadata": {
        "id": "l3TcLujQW7bw",
        "colab_type": "code",
        "colab": {}
      },
      "source": [
        "def tokenization(sentence):\n",
        "    tokenizer = Tokenizer()\n",
        "    tokenizer.fit_on_texts(sentence)\n",
        "    return tokenizer.texts_to_sequences(sentence), tokenizer\n",
        "  \n",
        "def pad(x, length=None):\n",
        "    return pad_sequences(x, maxlen=length, padding='post')\n",
        "  \n",
        "def preprocess(x, y):\n",
        "    \"\"\"\n",
        "    Preprocess x and y\n",
        "    :param x: Feature List of sentences\n",
        "    :param y: Label List of sentences\n",
        "    :return: Tuple of (Preprocessed x, Preprocessed y, x tokenizer, y tokenizer)\n",
        "    \"\"\"\n",
        "    preprocess_x, x_tk = tokenization(x)\n",
        "    preprocess_y, y_tk = tokenization(y)\n",
        "\n",
        "    preprocess_x = pad(preprocess_x)\n",
        "    preprocess_y = pad(preprocess_y)\n",
        "\n",
        "    # Keras's sparse_categorical_crossentropy function requires the labels to be in 3 dimensions\n",
        "    preprocess_y = preprocess_y.reshape(*preprocess_y.shape, 1)\n",
        "\n",
        "    return preprocess_x, preprocess_y, x_tk, y_tk"
      ],
      "execution_count": 0,
      "outputs": []
    },
    {
      "cell_type": "code",
      "metadata": {
        "id": "vJSrufEWXIyz",
        "colab_type": "code",
        "outputId": "23373fa0-3843-427d-eb04-0762bd17f53a",
        "colab": {
          "base_uri": "https://localhost:8080/",
          "height": 119
        }
      },
      "source": [
        "#Tokenization\n",
        "\n",
        "# en_tokenizer, en_tokenized= tokenization(en_sentences)\n",
        "# de_tokenizer, de_tokenized= tokenization(de_sentences)\n",
        "\n",
        "# max_en = max([len(line) for line in en_tokenized])\n",
        "# max_de=max([len(line) for line in de_tokenized])\n",
        "# en_vocab_size = len(en_tokenizer.word_index)+1\n",
        "# de_vocab_size = len(de_tokenizer.word_index)+1\n",
        "\n",
        "preproc_de, preproc_en, de_tokenizer, en_tokenizer =\\\n",
        "    preprocess(de_sentences, en_sentences)\n",
        "\n",
        "max_en = preproc_en.shape[1]\n",
        "max_de = preproc_de.shape[1]\n",
        "en_vocab_size = len(en_tokenizer.word_index)+1\n",
        "de_vocab_size = len(de_tokenizer.word_index)+1\n",
        " \n",
        "\n",
        "print('Data Preprocessed')\n",
        "print('Number of sentences: {}'.format(len([sentence for sentence in en_sentences])))\n",
        "print('Max English sentence length: {}'.format(max_en))\n",
        "print('Max Deutsch sentence length: {}'.format(max_de))\n",
        "print('English vocabulary size : {}'.format(en_vocab_size))\n",
        "print('Deutch Vocabulary Size : {}'.format(de_vocab_size))"
      ],
      "execution_count": 0,
      "outputs": [
        {
          "output_type": "stream",
          "text": [
            "Data Preprocessed\n",
            "Number of sentences: 1500\n",
            "Max English sentence length: 93\n",
            "Max Deutsch sentence length: 89\n",
            "English vocabulary size : 6299\n",
            "Deutch Vocabulary Size : 8435\n"
          ],
          "name": "stdout"
        }
      ]
    },
    {
      "cell_type": "code",
      "metadata": {
        "id": "kH8Z-hUndgaR",
        "colab_type": "code",
        "colab": {}
      },
      "source": [
        "#Encode\n",
        "def encode_sequences(tokenizer, lines,length):\n",
        "    # integer encode sequences\n",
        "    seq = tokenizer.texts_to_sequences(lines)\n",
        "    # pad sequences with 0 values\n",
        "    seq = pad_sequences(seq, maxlen=length, padding='post')\n",
        "    return seq\n",
        "leng_de_en = min(max_en,max_de)\n",
        "trainX = encode_sequences(de_tokenizer, de_train, leng_de_en)\n",
        "trainY = encode_sequences(en_tokenizer, en_train, leng_de_en)\n",
        "testX = encode_sequences(de_tokenizer, de_test, leng_de_en)\n",
        "testY = encode_sequences(en_tokenizer, en_test, leng_de_en)"
      ],
      "execution_count": 0,
      "outputs": []
    },
    {
      "cell_type": "markdown",
      "metadata": {
        "id": "zAMy8sX5dOyA",
        "colab_type": "text"
      },
      "source": [
        "# LSTM"
      ]
    },
    {
      "cell_type": "markdown",
      "metadata": {
        "id": "Yskc_7E-C0lM",
        "colab_type": "text"
      },
      "source": [
        "*   Untuk encoder akan menggunakan embedding dan LSTM layer\n",
        "*   Untuk decoder, menggunakan LSTM layer lainnya dan dense layer\n",
        "\n",
        "Input > Embedding > Encoder > Decoder > Dense > Output"
      ]
    },
    {
      "cell_type": "code",
      "metadata": {
        "id": "cpAAj9M1dR6V",
        "colab_type": "code",
        "colab": {}
      },
      "source": [
        "def build_model(in_vocab, out_vocab, in_timesteps, out_timesteps, units):\n",
        "    model = Sequential()\n",
        "    model.add(Embedding(in_vocab, units, input_length=in_timesteps, mask_zero=True))\n",
        "    model.add(LSTM(units))\n",
        "    model.add(RepeatVector(out_timesteps))\n",
        "    model.add(LSTM(units, return_sequences=True))\n",
        "    model.add(Dense(out_vocab, activation='softmax'))\n",
        "    rms = optimizers.RMSprop(lr=0.001)\n",
        "    model.compile(optimizer=rms, loss='sparse_categorical_crossentropy', metrics=['categorical_accuracy'])\n",
        "    return model"
      ],
      "execution_count": 0,
      "outputs": []
    },
    {
      "cell_type": "code",
      "metadata": {
        "id": "camltI-cnY8X",
        "colab_type": "code",
        "outputId": "5ee92234-716a-49ac-b9ef-9c59e3ebef27",
        "colab": {
          "base_uri": "https://localhost:8080/",
          "height": 2026
        }
      },
      "source": [
        "#counting time per epoch\n",
        "class TimeHistory(keras.callbacks.Callback):\n",
        "    def on_train_begin(self, logs={}):\n",
        "        self.times = []\n",
        "    def on_epoch_begin(self, epoch, logs={}):\n",
        "        self.epoch_time_start = time.time()\n",
        "    def on_epoch_end(self, epoch, logs={}):\n",
        "        self.times.append(time.time() - self.epoch_time_start)\n",
        "        \n",
        "filename = 'usingLSTM'\n",
        "model = build_model(de_vocab_size, en_vocab_size, leng_de_en,leng_de_en, 256)\n",
        "checkpoint = ModelCheckpoint(filename, monitor='val_loss', verbose=1, save_best_only=True, mode='min')\n",
        "time_history= TimeHistory()\n",
        "history = model.fit(trainX, trainY.reshape(trainY.shape[0], trainY.shape[1], 1), \n",
        "          epochs=25, batch_size=256, \n",
        "          validation_split = 0.2,\n",
        "          callbacks=[checkpoint,time_history], verbose=1)"
      ],
      "execution_count": 0,
      "outputs": [
        {
          "output_type": "stream",
          "text": [
            "WARNING: Logging before flag parsing goes to stderr.\n",
            "W0622 11:39:23.069265 140295467124608 deprecation_wrapper.py:119] From /usr/local/lib/python3.6/dist-packages/keras/backend/tensorflow_backend.py:74: The name tf.get_default_graph is deprecated. Please use tf.compat.v1.get_default_graph instead.\n",
            "\n",
            "W0622 11:39:23.091842 140295467124608 deprecation_wrapper.py:119] From /usr/local/lib/python3.6/dist-packages/keras/backend/tensorflow_backend.py:517: The name tf.placeholder is deprecated. Please use tf.compat.v1.placeholder instead.\n",
            "\n",
            "W0622 11:39:23.095300 140295467124608 deprecation_wrapper.py:119] From /usr/local/lib/python3.6/dist-packages/keras/backend/tensorflow_backend.py:4138: The name tf.random_uniform is deprecated. Please use tf.random.uniform instead.\n",
            "\n",
            "W0622 11:39:23.422114 140295467124608 deprecation.py:323] From /usr/local/lib/python3.6/dist-packages/keras/backend/tensorflow_backend.py:2974: add_dispatch_support.<locals>.wrapper (from tensorflow.python.ops.array_ops) is deprecated and will be removed in a future version.\n",
            "Instructions for updating:\n",
            "Use tf.where in 2.0, which has the same broadcast rule as np.where\n",
            "W0622 11:39:23.809593 140295467124608 deprecation_wrapper.py:119] From /usr/local/lib/python3.6/dist-packages/keras/optimizers.py:790: The name tf.train.Optimizer is deprecated. Please use tf.compat.v1.train.Optimizer instead.\n",
            "\n",
            "W0622 11:39:23.817421 140295467124608 deprecation_wrapper.py:119] From /usr/local/lib/python3.6/dist-packages/keras/backend/tensorflow_backend.py:3341: The name tf.log is deprecated. Please use tf.math.log instead.\n",
            "\n",
            "W0622 11:39:25.674929 140295467124608 deprecation_wrapper.py:119] From /usr/local/lib/python3.6/dist-packages/keras/backend/tensorflow_backend.py:986: The name tf.assign_add is deprecated. Please use tf.compat.v1.assign_add instead.\n",
            "\n"
          ],
          "name": "stderr"
        },
        {
          "output_type": "stream",
          "text": [
            "Train on 1164 samples, validate on 291 samples\n",
            "Epoch 1/25\n",
            "1164/1164 [==============================] - 70s 60ms/step - loss: 7.2942 - categorical_accuracy: 0.7801 - val_loss: 2.9271 - val_categorical_accuracy: 1.0000\n",
            "\n",
            "Epoch 00001: val_loss improved from inf to 2.92712, saving model to usingLSTM\n",
            "Epoch 2/25\n",
            "1164/1164 [==============================] - 66s 57ms/step - loss: 2.4839 - categorical_accuracy: 1.0000 - val_loss: 2.3943 - val_categorical_accuracy: 1.0000\n",
            "\n",
            "Epoch 00002: val_loss improved from 2.92712 to 2.39425, saving model to usingLSTM\n",
            "Epoch 3/25\n",
            "1164/1164 [==============================] - 68s 58ms/step - loss: 2.2799 - categorical_accuracy: 1.0000 - val_loss: 2.3683 - val_categorical_accuracy: 1.0000\n",
            "\n",
            "Epoch 00003: val_loss improved from 2.39425 to 2.36832, saving model to usingLSTM\n",
            "Epoch 4/25\n",
            "1164/1164 [==============================] - 66s 57ms/step - loss: 2.2361 - categorical_accuracy: 1.0000 - val_loss: 2.3670 - val_categorical_accuracy: 1.0000\n",
            "\n",
            "Epoch 00004: val_loss improved from 2.36832 to 2.36702, saving model to usingLSTM\n",
            "Epoch 5/25\n",
            "1164/1164 [==============================] - 66s 57ms/step - loss: 2.2130 - categorical_accuracy: 1.0000 - val_loss: 2.2974 - val_categorical_accuracy: 1.0000\n",
            "\n",
            "Epoch 00005: val_loss improved from 2.36702 to 2.29739, saving model to usingLSTM\n",
            "Epoch 6/25\n",
            "1164/1164 [==============================] - 66s 57ms/step - loss: 2.2053 - categorical_accuracy: 1.0000 - val_loss: 2.3086 - val_categorical_accuracy: 1.0000\n",
            "\n",
            "Epoch 00006: val_loss did not improve from 2.29739\n",
            "Epoch 7/25\n",
            "1164/1164 [==============================] - 66s 57ms/step - loss: 2.1589 - categorical_accuracy: 1.0000 - val_loss: 3.7434 - val_categorical_accuracy: 1.0000\n",
            "\n",
            "Epoch 00007: val_loss did not improve from 2.29739\n",
            "Epoch 8/25\n",
            "1164/1164 [==============================] - 66s 57ms/step - loss: 2.4934 - categorical_accuracy: 1.0000 - val_loss: 2.2667 - val_categorical_accuracy: 1.0000\n",
            "\n",
            "Epoch 00008: val_loss improved from 2.29739 to 2.26666, saving model to usingLSTM\n",
            "Epoch 9/25\n",
            "1164/1164 [==============================] - 66s 57ms/step - loss: 2.1674 - categorical_accuracy: 0.9991 - val_loss: 2.2604 - val_categorical_accuracy: 1.0000\n",
            "\n",
            "Epoch 00009: val_loss improved from 2.26666 to 2.26037, saving model to usingLSTM\n",
            "Epoch 10/25\n",
            "1164/1164 [==============================] - 66s 57ms/step - loss: 2.1620 - categorical_accuracy: 0.9974 - val_loss: 2.2213 - val_categorical_accuracy: 1.0000\n",
            "\n",
            "Epoch 00010: val_loss improved from 2.26037 to 2.22131, saving model to usingLSTM\n",
            "Epoch 11/25\n",
            "1164/1164 [==============================] - 66s 57ms/step - loss: 2.3122 - categorical_accuracy: 0.9957 - val_loss: 2.2828 - val_categorical_accuracy: 1.0000\n",
            "\n",
            "Epoch 00011: val_loss did not improve from 2.22131\n",
            "Epoch 12/25\n",
            "1164/1164 [==============================] - 66s 57ms/step - loss: 2.0985 - categorical_accuracy: 1.0000 - val_loss: 2.2622 - val_categorical_accuracy: 1.0000\n",
            "\n",
            "Epoch 00012: val_loss did not improve from 2.22131\n",
            "Epoch 13/25\n",
            "1164/1164 [==============================] - 66s 57ms/step - loss: 2.1459 - categorical_accuracy: 0.9991 - val_loss: 2.2658 - val_categorical_accuracy: 1.0000\n",
            "\n",
            "Epoch 00013: val_loss did not improve from 2.22131\n",
            "Epoch 14/25\n",
            "1164/1164 [==============================] - 66s 57ms/step - loss: 2.1355 - categorical_accuracy: 0.9974 - val_loss: 2.2593 - val_categorical_accuracy: 1.0000\n",
            "\n",
            "Epoch 00014: val_loss did not improve from 2.22131\n",
            "Epoch 15/25\n",
            "1164/1164 [==============================] - 67s 57ms/step - loss: 2.0798 - categorical_accuracy: 0.9980 - val_loss: 2.2402 - val_categorical_accuracy: 1.0000\n",
            "\n",
            "Epoch 00015: val_loss did not improve from 2.22131\n",
            "Epoch 16/25\n",
            "1164/1164 [==============================] - 67s 57ms/step - loss: 2.0813 - categorical_accuracy: 0.9949 - val_loss: 2.2445 - val_categorical_accuracy: 0.9675\n",
            "\n",
            "Epoch 00016: val_loss did not improve from 2.22131\n",
            "Epoch 17/25\n",
            "1164/1164 [==============================] - 67s 57ms/step - loss: 2.0745 - categorical_accuracy: 0.9746 - val_loss: 2.3435 - val_categorical_accuracy: 0.9941\n",
            "\n",
            "Epoch 00017: val_loss did not improve from 2.22131\n",
            "Epoch 18/25\n",
            "1164/1164 [==============================] - 67s 57ms/step - loss: 2.1581 - categorical_accuracy: 0.9869 - val_loss: 2.2874 - val_categorical_accuracy: 0.9890\n",
            "\n",
            "Epoch 00018: val_loss did not improve from 2.22131\n",
            "Epoch 19/25\n",
            "1164/1164 [==============================] - 67s 57ms/step - loss: 2.0432 - categorical_accuracy: 0.9824 - val_loss: 2.2457 - val_categorical_accuracy: 0.9676\n",
            "\n",
            "Epoch 00019: val_loss did not improve from 2.22131\n",
            "Epoch 20/25\n",
            "1164/1164 [==============================] - 67s 58ms/step - loss: 2.0868 - categorical_accuracy: 0.9589 - val_loss: 2.2986 - val_categorical_accuracy: 0.9722\n",
            "\n",
            "Epoch 00020: val_loss did not improve from 2.22131\n",
            "Epoch 21/25\n",
            "1164/1164 [==============================] - 67s 57ms/step - loss: 1.9866 - categorical_accuracy: 0.9619 - val_loss: 2.4338 - val_categorical_accuracy: 0.9648\n",
            "\n",
            "Epoch 00021: val_loss did not improve from 2.22131\n",
            "Epoch 22/25\n",
            "1164/1164 [==============================] - 66s 57ms/step - loss: 2.1026 - categorical_accuracy: 0.9127 - val_loss: 2.5301 - val_categorical_accuracy: 0.9835\n",
            "\n",
            "Epoch 00022: val_loss did not improve from 2.22131\n",
            "Epoch 23/25\n",
            "1164/1164 [==============================] - 66s 57ms/step - loss: 2.0370 - categorical_accuracy: 0.9760 - val_loss: 2.2749 - val_categorical_accuracy: 0.9624\n",
            "\n",
            "Epoch 00023: val_loss did not improve from 2.22131\n",
            "Epoch 24/25\n",
            "1164/1164 [==============================] - 67s 57ms/step - loss: 1.9845 - categorical_accuracy: 0.9595 - val_loss: 2.2652 - val_categorical_accuracy: 0.9497\n",
            "\n",
            "Epoch 00024: val_loss did not improve from 2.22131\n",
            "Epoch 25/25\n",
            "1164/1164 [==============================] - 66s 57ms/step - loss: 1.9966 - categorical_accuracy: 0.9455 - val_loss: 2.1632 - val_categorical_accuracy: 0.9190\n",
            "\n",
            "Epoch 00025: val_loss improved from 2.22131 to 2.16316, saving model to usingLSTM\n"
          ],
          "name": "stdout"
        }
      ]
    },
    {
      "cell_type": "code",
      "metadata": {
        "id": "4KF0jqaosVpW",
        "colab_type": "code",
        "outputId": "5942449c-f742-43d1-d009-8abbb9d1ed38",
        "colab": {
          "base_uri": "https://localhost:8080/",
          "height": 545
        }
      },
      "source": [
        "plt.title('LSTM Loss')\n",
        "plt.plot(history.history['loss'])\n",
        "plt.plot(history.history['val_loss'])\n",
        "plt.legend(['train','validation'])\n",
        "plt.show()\n",
        "\n",
        "plt.title('LSTM Accuracy')\n",
        "plt.plot(history.history['categorical_accuracy'])\n",
        "plt.plot(history.history['val_categorical_accuracy'])\n",
        "plt.legend(['train','validation'])\n",
        "plt.show()"
      ],
      "execution_count": 0,
      "outputs": [
        {
          "output_type": "display_data",
          "data": {
            "image/png": "[encoded data removed]",
            "text/plain": [
              "<Figure size 432x288 with 1 Axes>"
            ]
          },
          "metadata": {
            "tags": []
          }
        },
        {
          "output_type": "display_data",
          "data": {
            "image/png": "[encoded data removed]",
            "text/plain": [
              "<Figure size 432x288 with 1 Axes>"
            ]
          },
          "metadata": {
            "tags": []
          }
        }
      ]
    },
    {
      "cell_type": "code",
      "metadata": {
        "id": "ccSOObUk9wmI",
        "colab_type": "code",
        "outputId": "f7282075-c76f-4c8c-9a40-01b21300fefa",
        "colab": {
          "base_uri": "https://localhost:8080/",
          "height": 51
        }
      },
      "source": [
        "sum_lstm=0\n",
        "for i in history.history['val_loss']:\n",
        "  sum_lstm= sum_lstm + i\n",
        "print(sum_lstm)\n",
        "print(sum_lstm/25)"
      ],
      "execution_count": 0,
      "outputs": [
        {
          "output_type": "stream",
          "text": [
            "59.55154003883965\n",
            "2.382061601553586\n"
          ],
          "name": "stdout"
        }
      ]
    },
    {
      "cell_type": "code",
      "metadata": {
        "id": "U2w7zUS4Szyx",
        "colab_type": "code",
        "outputId": "3e56e156-dfc9-4a7d-c431-6f3ce50b4966",
        "colab": {
          "base_uri": "https://localhost:8080/",
          "height": 281
        }
      },
      "source": [
        "plt.title('LSTM time')\n",
        "plt.plot(time_history.times)\n",
        "plt.show()"
      ],
      "execution_count": 0,
      "outputs": [
        {
          "output_type": "display_data",
          "data": {
            "image/png": "[encoded data removed]",
            "text/plain": [
              "<Figure size 432x288 with 1 Axes>"
            ]
          },
          "metadata": {
            "tags": []
          }
        }
      ]
    },
    {
      "cell_type": "code",
      "metadata": {
        "id": "QeOOysWlhLFr",
        "colab_type": "code",
        "colab": {}
      },
      "source": [
        ""
      ],
      "execution_count": 0,
      "outputs": []
    },
    {
      "cell_type": "markdown",
      "metadata": {
        "id": "NzqcryVKiU-8",
        "colab_type": "text"
      },
      "source": [
        "# GRU"
      ]
    },
    {
      "cell_type": "markdown",
      "metadata": {
        "id": "tQkkSlHChKcR",
        "colab_type": "text"
      },
      "source": [
        ""
      ]
    },
    {
      "cell_type": "code",
      "metadata": {
        "id": "9f6Eitz5iYSR",
        "colab_type": "code",
        "colab": {}
      },
      "source": [
        "def encdec_model(de_vocab_size,en_vocab_size, output_sequence_length,units):\n",
        "  \n",
        "    learning_rate = 0.001\n",
        "    model = Sequential()\n",
        "    model.add(Embedding(de_vocab_size, units, input_length=output_sequence_length,mask_zero=True))\n",
        "    model.add(GRU(units,return_sequences = False))\n",
        "    model.add(RepeatVector(output_sequence_length))\n",
        "    model.add(GRU(units, return_sequences = True))\n",
        "    model.add(TimeDistributed(Dense(en_vocab_size, activation=\"softmax\")))\n",
        "    rms = optimizers.RMSprop(learning_rate)\n",
        "    model.compile(optimizer=rms, loss='sparse_categorical_crossentropy',metrics=['categorical_accuracy'])\n",
        "    return model"
      ],
      "execution_count": 0,
      "outputs": []
    },
    {
      "cell_type": "code",
      "metadata": {
        "id": "AcEqqSutuN2J",
        "colab_type": "code",
        "outputId": "8a1fe554-cc3c-47e7-d053-a8ea56c5d93a",
        "colab": {
          "base_uri": "https://localhost:8080/",
          "height": 1734
        }
      },
      "source": [
        "filename = 'usingGRU'\n",
        "model_gru = encdec_model(de_vocab_size, en_vocab_size, leng_de_en,256)\n",
        "#print(model_gru.summary())\n",
        "checkpoint = ModelCheckpoint(filename, monitor='val_loss', verbose=1, save_best_only=True, mode='min')\n",
        "time_history2= TimeHistory()\n",
        "history2 = model_gru.fit(trainX, trainY.reshape(trainY.shape[0], trainY.shape[1], 1), \n",
        "          epochs=25, batch_size=256, \n",
        "          validation_split = 0.2,\n",
        "          callbacks=[checkpoint,time_history2], verbose=1)"
      ],
      "execution_count": 0,
      "outputs": [
        {
          "output_type": "stream",
          "text": [
            "Train on 1164 samples, validate on 291 samples\n",
            "Epoch 1/25\n",
            "1164/1164 [==============================] - 56s 48ms/step - loss: 7.3930 - categorical_accuracy: 0.7809 - val_loss: 2.7426 - val_categorical_accuracy: 1.0000\n",
            "\n",
            "Epoch 00001: val_loss improved from inf to 2.74255, saving model to usingGRU\n",
            "Epoch 2/25\n",
            "1164/1164 [==============================] - 54s 47ms/step - loss: 2.4143 - categorical_accuracy: 1.0000 - val_loss: 2.3438 - val_categorical_accuracy: 1.0000\n",
            "\n",
            "Epoch 00002: val_loss improved from 2.74255 to 2.34378, saving model to usingGRU\n",
            "Epoch 3/25\n",
            "1164/1164 [==============================] - 54s 47ms/step - loss: 2.2148 - categorical_accuracy: 1.0000 - val_loss: 2.3129 - val_categorical_accuracy: 1.0000\n",
            "\n",
            "Epoch 00003: val_loss improved from 2.34378 to 2.31286, saving model to usingGRU\n",
            "Epoch 4/25\n",
            "1164/1164 [==============================] - 55s 47ms/step - loss: 2.2069 - categorical_accuracy: 1.0000 - val_loss: 2.2925 - val_categorical_accuracy: 1.0000\n",
            "\n",
            "Epoch 00004: val_loss improved from 2.31286 to 2.29249, saving model to usingGRU\n",
            "Epoch 5/25\n",
            "1164/1164 [==============================] - 55s 47ms/step - loss: 2.1840 - categorical_accuracy: 1.0000 - val_loss: 2.3547 - val_categorical_accuracy: 1.0000\n",
            "\n",
            "Epoch 00005: val_loss did not improve from 2.29249\n",
            "Epoch 6/25\n",
            "1164/1164 [==============================] - 55s 47ms/step - loss: 2.1808 - categorical_accuracy: 1.0000 - val_loss: 2.3078 - val_categorical_accuracy: 1.0000\n",
            "\n",
            "Epoch 00006: val_loss did not improve from 2.29249\n",
            "Epoch 7/25\n",
            "1164/1164 [==============================] - 55s 47ms/step - loss: 2.1610 - categorical_accuracy: 1.0000 - val_loss: 2.3226 - val_categorical_accuracy: 1.0000\n",
            "\n",
            "Epoch 00007: val_loss did not improve from 2.29249\n",
            "Epoch 8/25\n",
            "1164/1164 [==============================] - 55s 47ms/step - loss: 2.1542 - categorical_accuracy: 1.0000 - val_loss: 2.3715 - val_categorical_accuracy: 1.0000\n",
            "\n",
            "Epoch 00008: val_loss did not improve from 2.29249\n",
            "Epoch 9/25\n",
            "1164/1164 [==============================] - 55s 47ms/step - loss: 2.1395 - categorical_accuracy: 0.9991 - val_loss: 2.3184 - val_categorical_accuracy: 1.0000\n",
            "\n",
            "Epoch 00009: val_loss did not improve from 2.29249\n",
            "Epoch 10/25\n",
            "1164/1164 [==============================] - 55s 47ms/step - loss: 2.1494 - categorical_accuracy: 0.9991 - val_loss: 2.2223 - val_categorical_accuracy: 1.0000\n",
            "\n",
            "Epoch 00010: val_loss improved from 2.29249 to 2.22227, saving model to usingGRU\n",
            "Epoch 11/25\n",
            "1164/1164 [==============================] - 54s 47ms/step - loss: 2.1079 - categorical_accuracy: 1.0000 - val_loss: 2.2618 - val_categorical_accuracy: 1.0000\n",
            "\n",
            "Epoch 00011: val_loss did not improve from 2.22227\n",
            "Epoch 12/25\n",
            "1164/1164 [==============================] - 55s 47ms/step - loss: 2.1072 - categorical_accuracy: 1.0000 - val_loss: 2.2618 - val_categorical_accuracy: 1.0000\n",
            "\n",
            "Epoch 00012: val_loss did not improve from 2.22227\n",
            "Epoch 13/25\n",
            "1164/1164 [==============================] - 54s 47ms/step - loss: 2.0421 - categorical_accuracy: 0.9991 - val_loss: 2.3556 - val_categorical_accuracy: 0.9852\n",
            "\n",
            "Epoch 00013: val_loss did not improve from 2.22227\n",
            "Epoch 14/25\n",
            "1164/1164 [==============================] - 54s 47ms/step - loss: 2.1424 - categorical_accuracy: 0.9959 - val_loss: 2.2055 - val_categorical_accuracy: 0.9959\n",
            "\n",
            "Epoch 00014: val_loss improved from 2.22227 to 2.20547, saving model to usingGRU\n",
            "Epoch 15/25\n",
            "1164/1164 [==============================] - 55s 47ms/step - loss: 2.0065 - categorical_accuracy: 0.9893 - val_loss: 2.1864 - val_categorical_accuracy: 0.9697\n",
            "\n",
            "Epoch 00015: val_loss improved from 2.20547 to 2.18638, saving model to usingGRU\n",
            "Epoch 16/25\n",
            "1164/1164 [==============================] - 55s 47ms/step - loss: 2.2814 - categorical_accuracy: 0.8963 - val_loss: 2.2693 - val_categorical_accuracy: 0.9888\n",
            "\n",
            "Epoch 00016: val_loss did not improve from 2.18638\n",
            "Epoch 17/25\n",
            "1164/1164 [==============================] - 55s 47ms/step - loss: 2.0173 - categorical_accuracy: 0.9880 - val_loss: 2.1793 - val_categorical_accuracy: 0.9888\n",
            "\n",
            "Epoch 00017: val_loss improved from 2.18638 to 2.17934, saving model to usingGRU\n",
            "Epoch 18/25\n",
            "1164/1164 [==============================] - 55s 47ms/step - loss: 2.0241 - categorical_accuracy: 0.9841 - val_loss: 2.1988 - val_categorical_accuracy: 0.9776\n",
            "\n",
            "Epoch 00018: val_loss did not improve from 2.17934\n",
            "Epoch 19/25\n",
            "1164/1164 [==============================] - 54s 47ms/step - loss: 1.9900 - categorical_accuracy: 0.9783 - val_loss: 2.2074 - val_categorical_accuracy: 0.9634\n",
            "\n",
            "Epoch 00019: val_loss did not improve from 2.17934\n",
            "Epoch 20/25\n",
            "1164/1164 [==============================] - 55s 47ms/step - loss: 1.9889 - categorical_accuracy: 0.9668 - val_loss: 2.1977 - val_categorical_accuracy: 0.9416\n",
            "\n",
            "Epoch 00020: val_loss did not improve from 2.17934\n",
            "Epoch 21/25\n",
            "1164/1164 [==============================] - 54s 47ms/step - loss: 1.9850 - categorical_accuracy: 0.9551 - val_loss: 2.2681 - val_categorical_accuracy: 0.9107\n",
            "\n",
            "Epoch 00021: val_loss did not improve from 2.17934\n",
            "Epoch 22/25\n",
            "1164/1164 [==============================] - 54s 47ms/step - loss: 2.0272 - categorical_accuracy: 0.9466 - val_loss: 2.1270 - val_categorical_accuracy: 0.9233\n",
            "\n",
            "Epoch 00022: val_loss improved from 2.17934 to 2.12697, saving model to usingGRU\n",
            "Epoch 23/25\n",
            "1164/1164 [==============================] - 55s 47ms/step - loss: 1.9968 - categorical_accuracy: 0.9358 - val_loss: 2.1577 - val_categorical_accuracy: 0.9312\n",
            "\n",
            "Epoch 00023: val_loss did not improve from 2.12697\n",
            "Epoch 24/25\n",
            "1164/1164 [==============================] - 55s 47ms/step - loss: 1.8856 - categorical_accuracy: 0.9201 - val_loss: 2.2242 - val_categorical_accuracy: 0.8317\n",
            "\n",
            "Epoch 00024: val_loss did not improve from 2.12697\n",
            "Epoch 25/25\n",
            "1164/1164 [==============================] - 54s 47ms/step - loss: 2.0066 - categorical_accuracy: 0.9242 - val_loss: 2.1318 - val_categorical_accuracy: 0.9152\n",
            "\n",
            "Epoch 00025: val_loss did not improve from 2.12697\n"
          ],
          "name": "stdout"
        }
      ]
    },
    {
      "cell_type": "code",
      "metadata": {
        "id": "YNh0pIRL9-IW",
        "colab_type": "code",
        "outputId": "445f4c4e-a3bf-4e9c-d7bd-9282fc370bde",
        "colab": {
          "base_uri": "https://localhost:8080/",
          "height": 545
        }
      },
      "source": [
        "plt.title('GRU Loss')\n",
        "plt.plot(history2.history['loss'])\n",
        "plt.plot(history2.history['val_loss'])\n",
        "plt.legend(['train','validation'])\n",
        "plt.show()\n",
        "\n",
        "plt.title('GRU Accuracy')\n",
        "plt.plot(history2.history['categorical_accuracy'])\n",
        "plt.plot(history2.history['val_categorical_accuracy'])\n",
        "plt.legend(['train','validation'])\n",
        "plt.show()"
      ],
      "execution_count": 0,
      "outputs": [
        {
          "output_type": "display_data",
          "data": {
            "image/png": "[encoded data removed]",
            "text/plain": [
              "<Figure size 432x288 with 1 Axes>"
            ]
          },
          "metadata": {
            "tags": []
          }
        },
        {
          "output_type": "display_data",
          "data": {
            "image/png": "[encoded data removed]",
            "text/plain": [
              "<Figure size 432x288 with 1 Axes>"
            ]
          },
          "metadata": {
            "tags": []
          }
        }
      ]
    },
    {
      "cell_type": "code",
      "metadata": {
        "id": "FZMKnDZf-RwF",
        "colab_type": "code",
        "outputId": "920f7b48-9573-4726-cd2c-8c1e1b6db004",
        "colab": {
          "base_uri": "https://localhost:8080/",
          "height": 51
        }
      },
      "source": [
        "#rata - rata error\n",
        "sum_gru=0\n",
        "for i in history2.history['val_loss']:\n",
        "  sum_gru= sum_gru + i\n",
        "print(sum_gru)\n",
        "print(sum_gru/25)"
      ],
      "execution_count": 0,
      "outputs": [
        {
          "output_type": "stream",
          "text": [
            "56.820934796251365\n",
            "2.2728373918500546\n"
          ],
          "name": "stdout"
        }
      ]
    },
    {
      "cell_type": "code",
      "metadata": {
        "id": "bXT4JFfJ9-ni",
        "colab_type": "code",
        "outputId": "44be8b36-5e85-44f6-b2e3-48a9f629d8c4",
        "colab": {
          "base_uri": "https://localhost:8080/",
          "height": 281
        }
      },
      "source": [
        "plt.title('GRU Time per Epoch')\n",
        "plt.plot(time_history2.times)\n",
        "plt.show()"
      ],
      "execution_count": 0,
      "outputs": [
        {
          "output_type": "display_data",
          "data": {
            "image/png": "[encoded data removed]",
            "text/plain": [
              "<Figure size 432x288 with 1 Axes>"
            ]
          },
          "metadata": {
            "tags": []
          }
        }
      ]
    },
    {
      "cell_type": "markdown",
      "metadata": {
        "id": "Zv0Hyp_GGnMc",
        "colab_type": "text"
      },
      "source": [
        "#Time training dan Bleu Score"
      ]
    },
    {
      "cell_type": "code",
      "metadata": {
        "id": "N9ymtbJlGO3g",
        "colab_type": "code",
        "outputId": "ea75ee25-a44e-4928-f74e-718faa5cd2f3",
        "colab": {
          "base_uri": "https://localhost:8080/",
          "height": 281
        }
      },
      "source": [
        "plt.title('LSTM and GRU Time per Epoch')\n",
        "plt.plot(time_history.times)\n",
        "plt.plot(time_history2.times)\n",
        "plt.legend(['LSTM','GRU'])\n",
        "plt.show()"
      ],
      "execution_count": 0,
      "outputs": [
        {
          "output_type": "display_data",
          "data": {
            "image/png": "[encoded data removed]",
            "text/plain": [
              "<Figure size 432x288 with 1 Axes>"
            ]
          },
          "metadata": {
            "tags": []
          }
        }
      ]
    },
    {
      "cell_type": "markdown",
      "metadata": {
        "id": "XDkf5k1tH7Hs",
        "colab_type": "text"
      },
      "source": [
        "## Evaluasi"
      ]
    },
    {
      "cell_type": "markdown",
      "metadata": {
        "id": "5ggp7k4oKG40",
        "colab_type": "text"
      },
      "source": [
        "Digunakan untuk evaluasi model"
      ]
    },
    {
      "cell_type": "markdown",
      "metadata": {
        "id": "1RUYPQI4saBF",
        "colab_type": "text"
      },
      "source": [
        "### LSTM"
      ]
    },
    {
      "cell_type": "code",
      "metadata": {
        "id": "GY4aNjE9pjRB",
        "colab_type": "code",
        "colab": {}
      },
      "source": [
        "model = load_model('usingLSTM') \n",
        "\n",
        "preds = model.predict_classes(testX.reshape((testX.shape[0], testX.shape[1])))\n",
        "# map an integer to a word\n",
        "def word_for_id(integer, tokenizer):\n",
        "\tfor word, index in tokenizer.word_index.items():\n",
        "\t\tif index == integer:\n",
        "\t\t\treturn word\n",
        "\treturn None\n",
        "preds_text = [] \n",
        "for i in preds:        \n",
        "       temp = []        \n",
        "       for j in range(len(i)):             \n",
        "            t = word_for_id(i[j], en_tokenizer)             \n",
        "            if j > 0:                 \n",
        "                if (t==word_for_id(i[j-1],en_tokenizer))or(t== None):                       \n",
        "                     temp.append('')                 \n",
        "                else:                      \n",
        "                     temp.append(t)             \n",
        "            else:                    \n",
        "                if(t == None):                                   \n",
        "                     temp.append('')                    \n",
        "                else:                           \n",
        "                     temp.append(t)        \n",
        "       preds_text.append(' '.join(temp))"
      ],
      "execution_count": 0,
      "outputs": []
    },
    {
      "cell_type": "code",
      "metadata": {
        "id": "S9CayE45qFsb",
        "colab_type": "code",
        "outputId": "02d517dd-72c1-4729-8241-1efbf60b429a",
        "colab": {
          "base_uri": "https://localhost:8080/",
          "height": 1444
        }
      },
      "source": [
        "pred_df = pd.DataFrame({'actual' : en_test[:], 'predicted' : \n",
        "                        preds_text})\n",
        "pred_df"
      ],
      "execution_count": 0,
      "outputs": [
        {
          "output_type": "execute_result",
          "data": {
            "text/html": [
              "<div>\n",
              "<style scoped>\n",
              "    .dataframe tbody tr th:only-of-type {\n",
              "        vertical-align: middle;\n",
              "    }\n",
              "\n",
              "    .dataframe tbody tr th {\n",
              "        vertical-align: top;\n",
              "    }\n",
              "\n",
              "    .dataframe thead th {\n",
              "        text-align: right;\n",
              "    }\n",
              "</style>\n",
              "<table border=\"1\" class=\"dataframe\">\n",
              "  <thead>\n",
              "    <tr style=\"text-align: right;\">\n",
              "      <th></th>\n",
              "      <th>actual</th>\n",
              "      <th>predicted</th>\n",
              "    </tr>\n",
              "  </thead>\n",
              "  <tbody>\n",
              "    <tr>\n",
              "      <th>0</th>\n",
              "      <td>but the research is advancing fast and it is a...</td>\n",
              "      <td>the                                           ...</td>\n",
              "    </tr>\n",
              "    <tr>\n",
              "      <th>1</th>\n",
              "      <td>but then technology demographics and globaliza...</td>\n",
              "      <td>the                                           ...</td>\n",
              "    </tr>\n",
              "    <tr>\n",
              "      <th>2</th>\n",
              "      <td>5160160160160160 a new cap should include a po...</td>\n",
              "      <td>the                                           ...</td>\n",
              "    </tr>\n",
              "    <tr>\n",
              "      <th>3</th>\n",
              "      <td>under putin the security service has had its r...</td>\n",
              "      <td>the                                           ...</td>\n",
              "    </tr>\n",
              "    <tr>\n",
              "      <th>4</th>\n",
              "      <td>european union leaders now recognize this kick...</td>\n",
              "      <td>the                                           ...</td>\n",
              "    </tr>\n",
              "    <tr>\n",
              "      <th>5</th>\n",
              "      <td>turkey has become an invaluable asset in the m...</td>\n",
              "      <td>the                                           ...</td>\n",
              "    </tr>\n",
              "    <tr>\n",
              "      <th>6</th>\n",
              "      <td>plenty of evidence suggests that we are in som...</td>\n",
              "      <td>the                                           ...</td>\n",
              "    </tr>\n",
              "    <tr>\n",
              "      <th>7</th>\n",
              "      <td>and many die simply because there are no cures...</td>\n",
              "      <td>the                                           ...</td>\n",
              "    </tr>\n",
              "    <tr>\n",
              "      <th>8</th>\n",
              "      <td>the terrorist bombings in madrid and london an...</td>\n",
              "      <td>the                                           ...</td>\n",
              "    </tr>\n",
              "    <tr>\n",
              "      <th>9</th>\n",
              "      <td>now that gold has crossed the magic 1000 barri...</td>\n",
              "      <td>the                                           ...</td>\n",
              "    </tr>\n",
              "    <tr>\n",
              "      <th>10</th>\n",
              "      <td>the motion implicitly adopted the yardstick of...</td>\n",
              "      <td>the                                           ...</td>\n",
              "    </tr>\n",
              "    <tr>\n",
              "      <th>11</th>\n",
              "      <td>the models used in the west both in political ...</td>\n",
              "      <td>the                                           ...</td>\n",
              "    </tr>\n",
              "    <tr>\n",
              "      <th>12</th>\n",
              "      <td>why i’d go train to be a cosmonaut of course a...</td>\n",
              "      <td>the                                           ...</td>\n",
              "    </tr>\n",
              "    <tr>\n",
              "      <th>13</th>\n",
              "      <td>later maurice obstfeld pointed out that in add...</td>\n",
              "      <td>the                                           ...</td>\n",
              "    </tr>\n",
              "    <tr>\n",
              "      <th>14</th>\n",
              "      <td>as the eu has evolved and expanded food system...</td>\n",
              "      <td>the                                           ...</td>\n",
              "    </tr>\n",
              "    <tr>\n",
              "      <th>15</th>\n",
              "      <td>but the payrolltax cut which put more than 100...</td>\n",
              "      <td>the                                           ...</td>\n",
              "    </tr>\n",
              "    <tr>\n",
              "      <th>16</th>\n",
              "      <td>the parent bank would like to use these funds ...</td>\n",
              "      <td>the                                           ...</td>\n",
              "    </tr>\n",
              "    <tr>\n",
              "      <th>17</th>\n",
              "      <td>no longer can the lira be devalued to favor it...</td>\n",
              "      <td>the                                           ...</td>\n",
              "    </tr>\n",
              "    <tr>\n",
              "      <th>18</th>\n",
              "      <td>after all medieval alchemists engaged in what ...</td>\n",
              "      <td>the                                           ...</td>\n",
              "    </tr>\n",
              "    <tr>\n",
              "      <th>19</th>\n",
              "      <td>the swedish presidency together with the europ...</td>\n",
              "      <td>the                                           ...</td>\n",
              "    </tr>\n",
              "    <tr>\n",
              "      <th>20</th>\n",
              "      <td>why then do the most advanced countries in par...</td>\n",
              "      <td>the                                           ...</td>\n",
              "    </tr>\n",
              "    <tr>\n",
              "      <th>21</th>\n",
              "      <td>in 1989 liberal democracy triumphed over the s...</td>\n",
              "      <td>the                                           ...</td>\n",
              "    </tr>\n",
              "    <tr>\n",
              "      <th>22</th>\n",
              "      <td>in the us when oil prices go up incomes in tex...</td>\n",
              "      <td>the                                           ...</td>\n",
              "    </tr>\n",
              "    <tr>\n",
              "      <th>23</th>\n",
              "      <td>countries that want to integrate further can d...</td>\n",
              "      <td>the                                           ...</td>\n",
              "    </tr>\n",
              "    <tr>\n",
              "      <th>24</th>\n",
              "      <td>both he and gates then spoke of “learning” fro...</td>\n",
              "      <td>the                                           ...</td>\n",
              "    </tr>\n",
              "    <tr>\n",
              "      <th>25</th>\n",
              "      <td>these are the “facts on the ground” that doom ...</td>\n",
              "      <td>the                                           ...</td>\n",
              "    </tr>\n",
              "    <tr>\n",
              "      <th>26</th>\n",
              "      <td>he is a grandee a mover and shaker in the acad...</td>\n",
              "      <td>the                                           ...</td>\n",
              "    </tr>\n",
              "    <tr>\n",
              "      <th>27</th>\n",
              "      <td>awarding him the nobel peace prize is precisel...</td>\n",
              "      <td>but the                                       ...</td>\n",
              "    </tr>\n",
              "    <tr>\n",
              "      <th>28</th>\n",
              "      <td>but in a currency union with huge differences ...</td>\n",
              "      <td>the                                           ...</td>\n",
              "    </tr>\n",
              "    <tr>\n",
              "      <th>29</th>\n",
              "      <td>european continental thinking responding to ur...</td>\n",
              "      <td>the                                           ...</td>\n",
              "    </tr>\n",
              "    <tr>\n",
              "      <th>30</th>\n",
              "      <td>moreover the ecb already bears de facto respon...</td>\n",
              "      <td>the                                           ...</td>\n",
              "    </tr>\n",
              "    <tr>\n",
              "      <th>31</th>\n",
              "      <td>a alesina i angeloni amp lschuknecht cepr disc...</td>\n",
              "      <td>the                                           ...</td>\n",
              "    </tr>\n",
              "    <tr>\n",
              "      <th>32</th>\n",
              "      <td>altogether there were about 100 of us presiden...</td>\n",
              "      <td>the                                           ...</td>\n",
              "    </tr>\n",
              "    <tr>\n",
              "      <th>33</th>\n",
              "      <td>yet in america and most of the world drug pric...</td>\n",
              "      <td>the                                           ...</td>\n",
              "    </tr>\n",
              "    <tr>\n",
              "      <th>34</th>\n",
              "      <td>bruni’s own life path closely resembles any nu...</td>\n",
              "      <td>the                                           ...</td>\n",
              "    </tr>\n",
              "    <tr>\n",
              "      <th>35</th>\n",
              "      <td>almost everyone agreed that the old paradigm o...</td>\n",
              "      <td>the                                           ...</td>\n",
              "    </tr>\n",
              "    <tr>\n",
              "      <th>36</th>\n",
              "      <td>upon saddams fall a large middle ground existe...</td>\n",
              "      <td>the                                           ...</td>\n",
              "    </tr>\n",
              "    <tr>\n",
              "      <th>37</th>\n",
              "      <td>meanwhile a billion people go hungry each day</td>\n",
              "      <td>the                                           ...</td>\n",
              "    </tr>\n",
              "    <tr>\n",
              "      <th>38</th>\n",
              "      <td>giovanni bisignani the head of the internation...</td>\n",
              "      <td>the                                           ...</td>\n",
              "    </tr>\n",
              "    <tr>\n",
              "      <th>39</th>\n",
              "      <td>when sarkozy who otherwise has such finely tun...</td>\n",
              "      <td>the                                           ...</td>\n",
              "    </tr>\n",
              "    <tr>\n",
              "      <th>40</th>\n",
              "      <td>the us constitution for example does not presc...</td>\n",
              "      <td>the                                           ...</td>\n",
              "    </tr>\n",
              "    <tr>\n",
              "      <th>41</th>\n",
              "      <td>such restrictions on freedom did not meet with...</td>\n",
              "      <td>the                                           ...</td>\n",
              "    </tr>\n",
              "    <tr>\n",
              "      <th>42</th>\n",
              "      <td>i believe that early adoption of the euro is n...</td>\n",
              "      <td>the                                           ...</td>\n",
              "    </tr>\n",
              "    <tr>\n",
              "      <th>43</th>\n",
              "      <td>despite nationalist parties success in france ...</td>\n",
              "      <td>the                                           ...</td>\n",
              "    </tr>\n",
              "    <tr>\n",
              "      <th>44</th>\n",
              "      <td>the resulting knowledge benefits everyone by s...</td>\n",
              "      <td>the                                           ...</td>\n",
              "    </tr>\n",
              "  </tbody>\n",
              "</table>\n",
              "</div>"
            ],
            "text/plain": [
              "                                               actual                                          predicted\n",
              "0   but the research is advancing fast and it is a...  the                                           ...\n",
              "1   but then technology demographics and globaliza...  the                                           ...\n",
              "2   5160160160160160 a new cap should include a po...  the                                           ...\n",
              "3   under putin the security service has had its r...  the                                           ...\n",
              "4   european union leaders now recognize this kick...  the                                           ...\n",
              "5   turkey has become an invaluable asset in the m...  the                                           ...\n",
              "6   plenty of evidence suggests that we are in som...  the                                           ...\n",
              "7   and many die simply because there are no cures...  the                                           ...\n",
              "8   the terrorist bombings in madrid and london an...  the                                           ...\n",
              "9   now that gold has crossed the magic 1000 barri...  the                                           ...\n",
              "10  the motion implicitly adopted the yardstick of...  the                                           ...\n",
              "11  the models used in the west both in political ...  the                                           ...\n",
              "12  why i’d go train to be a cosmonaut of course a...  the                                           ...\n",
              "13  later maurice obstfeld pointed out that in add...  the                                           ...\n",
              "14  as the eu has evolved and expanded food system...  the                                           ...\n",
              "15  but the payrolltax cut which put more than 100...  the                                           ...\n",
              "16  the parent bank would like to use these funds ...  the                                           ...\n",
              "17  no longer can the lira be devalued to favor it...  the                                           ...\n",
              "18  after all medieval alchemists engaged in what ...  the                                           ...\n",
              "19  the swedish presidency together with the europ...  the                                           ...\n",
              "20  why then do the most advanced countries in par...  the                                           ...\n",
              "21  in 1989 liberal democracy triumphed over the s...  the                                           ...\n",
              "22  in the us when oil prices go up incomes in tex...  the                                           ...\n",
              "23  countries that want to integrate further can d...  the                                           ...\n",
              "24  both he and gates then spoke of “learning” fro...  the                                           ...\n",
              "25  these are the “facts on the ground” that doom ...  the                                           ...\n",
              "26  he is a grandee a mover and shaker in the acad...  the                                           ...\n",
              "27  awarding him the nobel peace prize is precisel...  but the                                       ...\n",
              "28  but in a currency union with huge differences ...  the                                           ...\n",
              "29  european continental thinking responding to ur...  the                                           ...\n",
              "30  moreover the ecb already bears de facto respon...  the                                           ...\n",
              "31  a alesina i angeloni amp lschuknecht cepr disc...  the                                           ...\n",
              "32  altogether there were about 100 of us presiden...  the                                           ...\n",
              "33  yet in america and most of the world drug pric...  the                                           ...\n",
              "34  bruni’s own life path closely resembles any nu...  the                                           ...\n",
              "35  almost everyone agreed that the old paradigm o...  the                                           ...\n",
              "36  upon saddams fall a large middle ground existe...  the                                           ...\n",
              "37      meanwhile a billion people go hungry each day  the                                           ...\n",
              "38  giovanni bisignani the head of the internation...  the                                           ...\n",
              "39  when sarkozy who otherwise has such finely tun...  the                                           ...\n",
              "40  the us constitution for example does not presc...  the                                           ...\n",
              "41  such restrictions on freedom did not meet with...  the                                           ...\n",
              "42  i believe that early adoption of the euro is n...  the                                           ...\n",
              "43  despite nationalist parties success in france ...  the                                           ...\n",
              "44  the resulting knowledge benefits everyone by s...  the                                           ..."
            ]
          },
          "metadata": {
            "tags": []
          },
          "execution_count": 45
        }
      ]
    },
    {
      "cell_type": "markdown",
      "metadata": {
        "id": "cdwF-b1jqiAO",
        "colab_type": "text"
      },
      "source": [
        "### GRU"
      ]
    },
    {
      "cell_type": "code",
      "metadata": {
        "id": "lRFxo1zOqjQW",
        "colab_type": "code",
        "colab": {}
      },
      "source": [
        "model = load_model('usingGRU') \n",
        "\n",
        "preds2 = model.predict_classes(testX.reshape((testX.shape[0], testX.shape[1])))\n",
        "preds_text2 = [] \n",
        "for i in preds2:        \n",
        "       temp = []        \n",
        "       for j in range(len(i)):             \n",
        "            t = word_for_id(i[j], en_tokenizer)             \n",
        "            if j > 0:                 \n",
        "                if (t==word_for_id(i[j-1],en_tokenizer))or(t== None):                       \n",
        "                     temp.append('')                 \n",
        "                else:                      \n",
        "                     temp.append(t)             \n",
        "            else:                    \n",
        "                if(t == None):                                   \n",
        "                     temp.append('')                    \n",
        "                else:                           \n",
        "                     temp.append(t)        \n",
        "       preds_text2.append(' '.join(temp))"
      ],
      "execution_count": 0,
      "outputs": []
    },
    {
      "cell_type": "code",
      "metadata": {
        "id": "zuvigKfhUmqn",
        "colab_type": "code",
        "outputId": "684acd04-285a-4e5c-f41d-a471f1fb015c",
        "colab": {
          "base_uri": "https://localhost:8080/",
          "height": 1444
        }
      },
      "source": [
        "pred_gru = pd.DataFrame({'actual' : en_test, 'predicted' : \n",
        "                        preds_text2})\n",
        "pred_gru"
      ],
      "execution_count": 0,
      "outputs": [
        {
          "output_type": "execute_result",
          "data": {
            "text/html": [
              "<div>\n",
              "<style scoped>\n",
              "    .dataframe tbody tr th:only-of-type {\n",
              "        vertical-align: middle;\n",
              "    }\n",
              "\n",
              "    .dataframe tbody tr th {\n",
              "        vertical-align: top;\n",
              "    }\n",
              "\n",
              "    .dataframe thead th {\n",
              "        text-align: right;\n",
              "    }\n",
              "</style>\n",
              "<table border=\"1\" class=\"dataframe\">\n",
              "  <thead>\n",
              "    <tr style=\"text-align: right;\">\n",
              "      <th></th>\n",
              "      <th>actual</th>\n",
              "      <th>predicted</th>\n",
              "    </tr>\n",
              "  </thead>\n",
              "  <tbody>\n",
              "    <tr>\n",
              "      <th>0</th>\n",
              "      <td>but the research is advancing fast and it is a...</td>\n",
              "      <td>the                                           ...</td>\n",
              "    </tr>\n",
              "    <tr>\n",
              "      <th>1</th>\n",
              "      <td>but then technology demographics and globaliza...</td>\n",
              "      <td>the                                           ...</td>\n",
              "    </tr>\n",
              "    <tr>\n",
              "      <th>2</th>\n",
              "      <td>5160160160160160 a new cap should include a po...</td>\n",
              "      <td>the                                           ...</td>\n",
              "    </tr>\n",
              "    <tr>\n",
              "      <th>3</th>\n",
              "      <td>under putin the security service has had its r...</td>\n",
              "      <td>the                                           ...</td>\n",
              "    </tr>\n",
              "    <tr>\n",
              "      <th>4</th>\n",
              "      <td>european union leaders now recognize this kick...</td>\n",
              "      <td>the                                           ...</td>\n",
              "    </tr>\n",
              "    <tr>\n",
              "      <th>5</th>\n",
              "      <td>turkey has become an invaluable asset in the m...</td>\n",
              "      <td>the                                           ...</td>\n",
              "    </tr>\n",
              "    <tr>\n",
              "      <th>6</th>\n",
              "      <td>plenty of evidence suggests that we are in som...</td>\n",
              "      <td>the                                           ...</td>\n",
              "    </tr>\n",
              "    <tr>\n",
              "      <th>7</th>\n",
              "      <td>and many die simply because there are no cures...</td>\n",
              "      <td>the                                           ...</td>\n",
              "    </tr>\n",
              "    <tr>\n",
              "      <th>8</th>\n",
              "      <td>the terrorist bombings in madrid and london an...</td>\n",
              "      <td>the                                           ...</td>\n",
              "    </tr>\n",
              "    <tr>\n",
              "      <th>9</th>\n",
              "      <td>now that gold has crossed the magic 1000 barri...</td>\n",
              "      <td>the                                           ...</td>\n",
              "    </tr>\n",
              "    <tr>\n",
              "      <th>10</th>\n",
              "      <td>the motion implicitly adopted the yardstick of...</td>\n",
              "      <td>the                                           ...</td>\n",
              "    </tr>\n",
              "    <tr>\n",
              "      <th>11</th>\n",
              "      <td>the models used in the west both in political ...</td>\n",
              "      <td>the                                           ...</td>\n",
              "    </tr>\n",
              "    <tr>\n",
              "      <th>12</th>\n",
              "      <td>why i’d go train to be a cosmonaut of course a...</td>\n",
              "      <td>the                                           ...</td>\n",
              "    </tr>\n",
              "    <tr>\n",
              "      <th>13</th>\n",
              "      <td>later maurice obstfeld pointed out that in add...</td>\n",
              "      <td>the                                           ...</td>\n",
              "    </tr>\n",
              "    <tr>\n",
              "      <th>14</th>\n",
              "      <td>as the eu has evolved and expanded food system...</td>\n",
              "      <td>the                                           ...</td>\n",
              "    </tr>\n",
              "    <tr>\n",
              "      <th>15</th>\n",
              "      <td>but the payrolltax cut which put more than 100...</td>\n",
              "      <td>the                                           ...</td>\n",
              "    </tr>\n",
              "    <tr>\n",
              "      <th>16</th>\n",
              "      <td>the parent bank would like to use these funds ...</td>\n",
              "      <td>the                                           ...</td>\n",
              "    </tr>\n",
              "    <tr>\n",
              "      <th>17</th>\n",
              "      <td>no longer can the lira be devalued to favor it...</td>\n",
              "      <td>the                                           ...</td>\n",
              "    </tr>\n",
              "    <tr>\n",
              "      <th>18</th>\n",
              "      <td>after all medieval alchemists engaged in what ...</td>\n",
              "      <td>the                                           ...</td>\n",
              "    </tr>\n",
              "    <tr>\n",
              "      <th>19</th>\n",
              "      <td>the swedish presidency together with the europ...</td>\n",
              "      <td>the                                           ...</td>\n",
              "    </tr>\n",
              "    <tr>\n",
              "      <th>20</th>\n",
              "      <td>why then do the most advanced countries in par...</td>\n",
              "      <td>the                                           ...</td>\n",
              "    </tr>\n",
              "    <tr>\n",
              "      <th>21</th>\n",
              "      <td>in 1989 liberal democracy triumphed over the s...</td>\n",
              "      <td>the                                           ...</td>\n",
              "    </tr>\n",
              "    <tr>\n",
              "      <th>22</th>\n",
              "      <td>in the us when oil prices go up incomes in tex...</td>\n",
              "      <td>the                                           ...</td>\n",
              "    </tr>\n",
              "    <tr>\n",
              "      <th>23</th>\n",
              "      <td>countries that want to integrate further can d...</td>\n",
              "      <td>the                                           ...</td>\n",
              "    </tr>\n",
              "    <tr>\n",
              "      <th>24</th>\n",
              "      <td>both he and gates then spoke of “learning” fro...</td>\n",
              "      <td>the                                           ...</td>\n",
              "    </tr>\n",
              "    <tr>\n",
              "      <th>25</th>\n",
              "      <td>these are the “facts on the ground” that doom ...</td>\n",
              "      <td>the                                           ...</td>\n",
              "    </tr>\n",
              "    <tr>\n",
              "      <th>26</th>\n",
              "      <td>he is a grandee a mover and shaker in the acad...</td>\n",
              "      <td>the                                           ...</td>\n",
              "    </tr>\n",
              "    <tr>\n",
              "      <th>27</th>\n",
              "      <td>awarding him the nobel peace prize is precisel...</td>\n",
              "      <td>the                                           ...</td>\n",
              "    </tr>\n",
              "    <tr>\n",
              "      <th>28</th>\n",
              "      <td>but in a currency union with huge differences ...</td>\n",
              "      <td>the                                           ...</td>\n",
              "    </tr>\n",
              "    <tr>\n",
              "      <th>29</th>\n",
              "      <td>european continental thinking responding to ur...</td>\n",
              "      <td>the                                           ...</td>\n",
              "    </tr>\n",
              "    <tr>\n",
              "      <th>30</th>\n",
              "      <td>moreover the ecb already bears de facto respon...</td>\n",
              "      <td>the                                           ...</td>\n",
              "    </tr>\n",
              "    <tr>\n",
              "      <th>31</th>\n",
              "      <td>a alesina i angeloni amp lschuknecht cepr disc...</td>\n",
              "      <td>the                                           ...</td>\n",
              "    </tr>\n",
              "    <tr>\n",
              "      <th>32</th>\n",
              "      <td>altogether there were about 100 of us presiden...</td>\n",
              "      <td>the                                           ...</td>\n",
              "    </tr>\n",
              "    <tr>\n",
              "      <th>33</th>\n",
              "      <td>yet in america and most of the world drug pric...</td>\n",
              "      <td>the                                           ...</td>\n",
              "    </tr>\n",
              "    <tr>\n",
              "      <th>34</th>\n",
              "      <td>bruni’s own life path closely resembles any nu...</td>\n",
              "      <td>the                                           ...</td>\n",
              "    </tr>\n",
              "    <tr>\n",
              "      <th>35</th>\n",
              "      <td>almost everyone agreed that the old paradigm o...</td>\n",
              "      <td>the                                           ...</td>\n",
              "    </tr>\n",
              "    <tr>\n",
              "      <th>36</th>\n",
              "      <td>upon saddams fall a large middle ground existe...</td>\n",
              "      <td>the                                           ...</td>\n",
              "    </tr>\n",
              "    <tr>\n",
              "      <th>37</th>\n",
              "      <td>meanwhile a billion people go hungry each day</td>\n",
              "      <td>the                                           ...</td>\n",
              "    </tr>\n",
              "    <tr>\n",
              "      <th>38</th>\n",
              "      <td>giovanni bisignani the head of the internation...</td>\n",
              "      <td>the                                           ...</td>\n",
              "    </tr>\n",
              "    <tr>\n",
              "      <th>39</th>\n",
              "      <td>when sarkozy who otherwise has such finely tun...</td>\n",
              "      <td>the                                           ...</td>\n",
              "    </tr>\n",
              "    <tr>\n",
              "      <th>40</th>\n",
              "      <td>the us constitution for example does not presc...</td>\n",
              "      <td>the                                           ...</td>\n",
              "    </tr>\n",
              "    <tr>\n",
              "      <th>41</th>\n",
              "      <td>such restrictions on freedom did not meet with...</td>\n",
              "      <td>the                                           ...</td>\n",
              "    </tr>\n",
              "    <tr>\n",
              "      <th>42</th>\n",
              "      <td>i believe that early adoption of the euro is n...</td>\n",
              "      <td>the                                           ...</td>\n",
              "    </tr>\n",
              "    <tr>\n",
              "      <th>43</th>\n",
              "      <td>despite nationalist parties success in france ...</td>\n",
              "      <td>the                                           ...</td>\n",
              "    </tr>\n",
              "    <tr>\n",
              "      <th>44</th>\n",
              "      <td>the resulting knowledge benefits everyone by s...</td>\n",
              "      <td>the                                           ...</td>\n",
              "    </tr>\n",
              "  </tbody>\n",
              "</table>\n",
              "</div>"
            ],
            "text/plain": [
              "                                               actual                                          predicted\n",
              "0   but the research is advancing fast and it is a...  the                                           ...\n",
              "1   but then technology demographics and globaliza...  the                                           ...\n",
              "2   5160160160160160 a new cap should include a po...  the                                           ...\n",
              "3   under putin the security service has had its r...  the                                           ...\n",
              "4   european union leaders now recognize this kick...  the                                           ...\n",
              "5   turkey has become an invaluable asset in the m...  the                                           ...\n",
              "6   plenty of evidence suggests that we are in som...  the                                           ...\n",
              "7   and many die simply because there are no cures...  the                                           ...\n",
              "8   the terrorist bombings in madrid and london an...  the                                           ...\n",
              "9   now that gold has crossed the magic 1000 barri...  the                                           ...\n",
              "10  the motion implicitly adopted the yardstick of...  the                                           ...\n",
              "11  the models used in the west both in political ...  the                                           ...\n",
              "12  why i’d go train to be a cosmonaut of course a...  the                                           ...\n",
              "13  later maurice obstfeld pointed out that in add...  the                                           ...\n",
              "14  as the eu has evolved and expanded food system...  the                                           ...\n",
              "15  but the payrolltax cut which put more than 100...  the                                           ...\n",
              "16  the parent bank would like to use these funds ...  the                                           ...\n",
              "17  no longer can the lira be devalued to favor it...  the                                           ...\n",
              "18  after all medieval alchemists engaged in what ...  the                                           ...\n",
              "19  the swedish presidency together with the europ...  the                                           ...\n",
              "20  why then do the most advanced countries in par...  the                                           ...\n",
              "21  in 1989 liberal democracy triumphed over the s...  the                                           ...\n",
              "22  in the us when oil prices go up incomes in tex...  the                                           ...\n",
              "23  countries that want to integrate further can d...  the                                           ...\n",
              "24  both he and gates then spoke of “learning” fro...  the                                           ...\n",
              "25  these are the “facts on the ground” that doom ...  the                                           ...\n",
              "26  he is a grandee a mover and shaker in the acad...  the                                           ...\n",
              "27  awarding him the nobel peace prize is precisel...  the                                           ...\n",
              "28  but in a currency union with huge differences ...  the                                           ...\n",
              "29  european continental thinking responding to ur...  the                                           ...\n",
              "30  moreover the ecb already bears de facto respon...  the                                           ...\n",
              "31  a alesina i angeloni amp lschuknecht cepr disc...  the                                           ...\n",
              "32  altogether there were about 100 of us presiden...  the                                           ...\n",
              "33  yet in america and most of the world drug pric...  the                                           ...\n",
              "34  bruni’s own life path closely resembles any nu...  the                                           ...\n",
              "35  almost everyone agreed that the old paradigm o...  the                                           ...\n",
              "36  upon saddams fall a large middle ground existe...  the                                           ...\n",
              "37      meanwhile a billion people go hungry each day  the                                           ...\n",
              "38  giovanni bisignani the head of the internation...  the                                           ...\n",
              "39  when sarkozy who otherwise has such finely tun...  the                                           ...\n",
              "40  the us constitution for example does not presc...  the                                           ...\n",
              "41  such restrictions on freedom did not meet with...  the                                           ...\n",
              "42  i believe that early adoption of the euro is n...  the                                           ...\n",
              "43  despite nationalist parties success in france ...  the                                           ...\n",
              "44  the resulting knowledge benefits everyone by s...  the                                           ..."
            ]
          },
          "metadata": {
            "tags": []
          },
          "execution_count": 47
        }
      ]
    },
    {
      "cell_type": "markdown",
      "metadata": {
        "id": "j0pdhotoUFwj",
        "colab_type": "text"
      },
      "source": [
        "# reference"
      ]
    },
    {
      "cell_type": "markdown",
      "metadata": {
        "id": "3zWdTQUOUOdc",
        "colab_type": "text"
      },
      "source": [
        "https://medium.com/analytics-vidhya/a-must-read-nlp-tutorial-on-neural-machine-translation-the-technique-powering-google-translate-c5c8d97d7587\n",
        "\n",
        "https://towardsdatascience.com/neural-machine-translation-with-python-c2f0a34f7dd\n",
        "\n",
        "https://machinelearningmastery.com/develop-neural-machine-translation-system-keras/\n",
        "\n",
        "https://stackoverflow.com/questions/43178668/record-the-computation-time-for-each-epoch-in-keras-during-model-fit/43186440"
      ]
    }
  ]
}